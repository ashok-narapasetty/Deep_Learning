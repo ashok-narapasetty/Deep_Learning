{
 "cells": [
  {
   "cell_type": "markdown",
   "metadata": {},
   "source": [
    "# Simple Neural Net\n",
    "## Notation\n",
    "<br>\n",
    "<br>  \n",
    "\n",
    "![notation 1](Helper_Images\\nn_1.jpg)\n",
    "\n",
    "![notation 2](Helper_Images\\nn_2.jpg)\n"
   ]
  },
  {
   "cell_type": "markdown",
   "metadata": {},
   "source": [
    "## Logistic Regression\n",
    "<br>\n",
    "<br>  \n",
    "\n",
    "![notation 3](Helper_Images\\nn_3.jpg)"
   ]
  },
  {
   "cell_type": "markdown",
   "metadata": {},
   "source": [
    "## one iteration\n",
    "<br>\n",
    "\n",
    "![notation 4](Helper_Images\\nn_4.jpg)"
   ]
  },
  {
   "cell_type": "markdown",
   "metadata": {},
   "source": [
    "## Libraries, Data and Preprocessing"
   ]
  },
  {
   "cell_type": "code",
   "execution_count": 1,
   "metadata": {},
   "outputs": [
    {
     "name": "stdout",
     "output_type": "stream",
     "text": [
      "Train Digits:   (1257, 64)\n",
      "Train Labels:   (1257,)\n",
      "Test Digits:    (540, 64)\n",
      "Test Labels:    (540,)\n"
     ]
    }
   ],
   "source": [
    "## libraries\n",
    "import numpy as np\n",
    "from sklearn.datasets import load_digits\n",
    "from sklearn.model_selection import train_test_split\n",
    "from sklearn.metrics import confusion_matrix\n",
    "\n",
    "## digits data\n",
    "digits = load_digits()\n",
    "## train test split\n",
    "train_digits, test_digits, train_labels, test_labels = train_test_split(digits['data'], digits['target'], test_size=0.3, random_state=123)\n",
    "## making target binary\n",
    "train_labels = np.where(train_labels == 3,1,0)\n",
    "test_labels = np.where(test_labels == 3,1,0)\n",
    "\n",
    "## shape\n",
    "print('Train Digits:'.ljust(15),train_digits.shape)\n",
    "print('Train Labels:'.ljust(15),train_labels.shape)\n",
    "print('Test Digits:'.ljust(15),test_digits.shape)\n",
    "print('Test Labels:'.ljust(15),test_labels.shape)\n",
    "\n",
    "## scaling data\n",
    "train_digits = train_digits/16.0\n",
    "test_digits = test_digits/16.0"
   ]
  },
  {
   "cell_type": "markdown",
   "metadata": {},
   "source": [
    "## Helper, Fitting and Prediction Functions"
   ]
  },
  {
   "cell_type": "code",
   "execution_count": 2,
   "metadata": {},
   "outputs": [],
   "source": [
    "### Sigmoid functon\n",
    "def sigmoid(x):\n",
    "    return(1/(1+np.exp(-x)))\n",
    "\n",
    "## Logistic fitting\n",
    "def logistic_fit(train_x, train_y, epoch, alpha):\n",
    "    m = train_x.shape[0]   ## number of samples\n",
    "    ## random weights and bias\n",
    "    w = np.random.random_sample(64)\n",
    "    b = np.random.random()\n",
    "    \n",
    "    ## learning\n",
    "    for i in range(epoch):\n",
    "        ## Forward propogation - Prediction\n",
    "        z = np.dot(w,train_x.T) + b\n",
    "        A = sigmoid(z)\n",
    "        \n",
    "        ## Backpropagation - Derivatives\n",
    "        dz = (A-train_y)\n",
    "        dw = (1/m)*np.dot(train_x.T,dz)\n",
    "        db = (1/m)*np.sum(dz)\n",
    "        \n",
    "        ## updating weights and biases\n",
    "        w = w - alpha*dw\n",
    "        b = b - alpha*db\n",
    "        \n",
    "    return((w,b))\n",
    "\n",
    "## Prediction\n",
    "def logistic_predict(model, test_x):\n",
    "    ## weights and bias\n",
    "    w = model[0]\n",
    "    b = model[1]\n",
    "    \n",
    "    ## prediction\n",
    "    z = np.dot(w,test_x.T) + b\n",
    "    A = sigmoid(z)\n",
    "    \n",
    "    return(A)"
   ]
  },
  {
   "cell_type": "markdown",
   "metadata": {},
   "source": [
    "## Evaluation"
   ]
  },
  {
   "cell_type": "code",
   "execution_count": 3,
   "metadata": {},
   "outputs": [],
   "source": [
    "model = logistic_fit(train_digits, train_labels, epoch = 100000, alpha = 0.1)\n",
    "PredictedProbs = logistic_predict(model, test_digits)\n",
    "PredictedLabels = np.where(PredictedProbs>0.5,1,0)"
   ]
  },
  {
   "cell_type": "code",
   "execution_count": 4,
   "metadata": {},
   "outputs": [
    {
     "data": {
      "text/plain": [
       "array([[491,   3],\n",
       "       [  3,  43]], dtype=int64)"
      ]
     },
     "execution_count": 4,
     "metadata": {},
     "output_type": "execute_result"
    }
   ],
   "source": [
    "confusion_matrix(test_labels,PredictedLabels)"
   ]
  },
  {
   "cell_type": "code",
   "execution_count": null,
   "metadata": {},
   "outputs": [],
   "source": []
  }
 ],
 "metadata": {
  "kernelspec": {
   "display_name": "Python 3",
   "language": "python",
   "name": "python3"
  },
  "language_info": {
   "codemirror_mode": {
    "name": "ipython",
    "version": 3
   },
   "file_extension": ".py",
   "mimetype": "text/x-python",
   "name": "python",
   "nbconvert_exporter": "python",
   "pygments_lexer": "ipython3",
   "version": "3.7.3"
  }
 },
 "nbformat": 4,
 "nbformat_minor": 2
}
