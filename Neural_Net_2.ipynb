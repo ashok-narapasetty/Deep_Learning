{
 "cells": [
  {
   "cell_type": "markdown",
   "metadata": {},
   "source": [
    "# Shallow Nets\n",
    "\n",
    "## Representation\n",
    "<br>\n",
    "<br>\n",
    "\n",
    "![Representation 1](Helper_Images/nn_2_1.jpg)\n",
    "\n",
    "![Representation 2](Helper_Images/nn_2_2.jpg)\n",
    "\n",
    "![Representation 3](Helper_Images/nn_2_3.jpg)"
   ]
  },
  {
   "cell_type": "code",
   "execution_count": 2,
   "metadata": {},
   "outputs": [
    {
     "name": "stdout",
     "output_type": "stream",
     "text": [
      "Train Features: (1257, 64)\n",
      "Train Labels:   (1257,)\n",
      "Test Features:  (540, 64)\n",
      "Test Labels:    (540,)\n"
     ]
    }
   ],
   "source": [
    "## libraries\n",
    "import numpy as np\n",
    "from sklearn.datasets import load_digits\n",
    "from sklearn.model_selection import train_test_split\n",
    "\n",
    "## data\n",
    "digits = load_digits()\n",
    "train_x, test_x, train_y, test_y = train_test_split(digits['data'],digits['target'],test_size = 0.3, random_state = 123)\n",
    "\n",
    "## shape\n",
    "print('Train Features:'.ljust(15),train_x.shape)\n",
    "print('Train Labels:'.ljust(15),train_y.shape)\n",
    "print('Test Features:'.ljust(15),test_x.shape)\n",
    "print('Test Labels:'.ljust(15),test_y.shape)\n",
    "\n",
    "## scaling feaures and making labels binary \n",
    "train_x = train_x/16.0\n",
    "test_x = test_x/16.0\n",
    "train_y = np.where(train_y == 3,1,0)\n",
    "test_y  = np.where(test_y == 3,1,0)"
   ]
  },
  {
   "cell_type": "code",
   "execution_count": 3,
   "metadata": {},
   "outputs": [],
   "source": [
    "### Hidden Layer - 4 neurons, 64 input features\n",
    "### Sigmoid functon\n",
    "def sigmoid(x):\n",
    "    return(1/(1+np.exp(-x)))\n",
    "\n",
    "## Weights and bias\n",
    "# Hidden Layer\n",
    "w1 = np.random.random(64*4).reshape((4,64))\n",
    "b1 = np.random.random(4).reshape((4,1))\n",
    "# output layer\n",
    "w2 = np.random.random(1*4).reshape((1,4))\n",
    "b2 = np.random.random(1)\n",
    "\n",
    "## forward propagation\n",
    "# Hidden layer\n",
    "z1 = np.dot(w1,train_x.T) + b1\n",
    "A1 = sigmoid(z1)\n",
    "# Output layer\n",
    "z2 = np.dot(w2,A1) + b2\n",
    "A2 = sigmoid(z2)\n",
    "\n",
    "## Back propogation\n"
   ]
  },
  {
   "cell_type": "code",
   "execution_count": null,
   "metadata": {},
   "outputs": [],
   "source": []
  }
 ],
 "metadata": {
  "kernelspec": {
   "display_name": "Python 3",
   "language": "python",
   "name": "python3"
  },
  "language_info": {
   "codemirror_mode": {
    "name": "ipython",
    "version": 3
   },
   "file_extension": ".py",
   "mimetype": "text/x-python",
   "name": "python",
   "nbconvert_exporter": "python",
   "pygments_lexer": "ipython3",
   "version": "3.7.3"
  }
 },
 "nbformat": 4,
 "nbformat_minor": 2
}
